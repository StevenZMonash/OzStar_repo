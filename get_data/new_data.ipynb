{
 "cells": [
  {
   "cell_type": "code",
   "execution_count": 1,
   "metadata": {},
   "outputs": [],
   "source": [
    "import gw_ml_priors"
   ]
  },
  {
   "cell_type": "code",
   "execution_count": 2,
   "metadata": {},
   "outputs": [],
   "source": [
    "import multiprocessing\n",
    "import os\n",
    "import shutil\n",
    "import h5py\n",
    "import matplotlib.pyplot as plt\n",
    "import numpy as np\n",
    "import pandas as pd\n",
    "from bilby.core.prior import Interped\n",
    "from joblib import Parallel, delayed\n",
    "from numpy.random import uniform as unif\n",
    "from tqdm.auto import tqdm\n",
    "\n",
    "from gw_ml_priors.conversions import calc_a2\n",
    "from gw_ml_priors.regressors.scikit_regressor import ScikitRegressor\n",
    "\n",
    "NUM_CORES = multiprocessing.cpu_count()\n",
    "\n",
    "\n",
    "def get_a1_prior(xeff, q, mcmc_n=int(1e4)):\n",
    "    a1s = np.linspace(0, 1, 500)\n",
    "    da1 = a1s[1] - a1s[0]\n",
    "    p_a1 = Parallel(n_jobs=NUM_CORES, verbose=1)(\n",
    "        delayed(get_p_a1_given_xeff_q)(a1, xeff, q, mcmc_n)\n",
    "        for a1 in tqdm(a1s, desc=\"Building a1 cache\")\n",
    "    )\n",
    "    p_a1 = p_a1 / np.sum(p_a1) / da1\n",
    "    data = pd.DataFrame(dict(a1=a1s, p_a1=p_a1))\n",
    "    a1 = data.a1.values\n",
    "    p_a1 = norm_values(data.p_a1.values, a1)\n",
    "    min_b, max_b = find_boundary(a1, p_a1)\n",
    "    return Interped(\n",
    "        xx=a1, yy=p_a1, minimum=min_b, maximum=max_b, name=\"a_1\", latex_label=r\"$a_1$\"\n",
    "    )\n",
    "\n",
    "\n",
    "def get_p_a1_given_xeff_q(a1, xeff, q, n=int(1e4)):\n",
    "    cos1, cos2 = unif(-1, 1, n), unif(-1, 1, n)\n",
    "    a2 = calc_a2(xeff=xeff, q=q, cos1=cos1, cos2=cos2, a1=a1)\n",
    "    integrand = a2_interpreter_function(a2)\n",
    "    return np.mean(integrand)\n",
    "\n",
    "\n",
    "def find_nearest(array, value):\n",
    "    array = np.asarray(array)\n",
    "    idx = (np.abs(array - value)).argmin()\n",
    "    return array[idx]\n",
    "\n",
    "\n",
    "def find_boundary_idx(x):\n",
    "    \"\"\"finds idx where data is non zero (assumes that there wont be gaps)\"\"\"\n",
    "    non_z = np.nonzero(x)[0]\n",
    "    return non_z[0], non_z[-1]\n",
    "\n",
    "\n",
    "def norm_values(y, x):\n",
    "    return y / np.trapz(y, x)\n",
    "\n",
    "\n",
    "def find_boundary(x, y):\n",
    "    b1, b2 = find_boundary_idx(y)\n",
    "    vals = [x[b1], x[b2]]\n",
    "    start, end = min(vals), max(vals)\n",
    "    return start, end\n",
    "\n",
    "\n",
    "def a2_interpreter_function(a2):\n",
    "    return np.where(((0 < a2) & (a2 < 1)), 1, 0)\n",
    "\n",
    "\n"
   ]
  },
  {
   "cell_type": "code",
   "execution_count": 4,
   "metadata": {},
   "outputs": [
    {
     "name": "stdout",
     "output_type": "stream",
     "text": [
      "[0.01010101 0.02020202 0.03030303 0.04040404 0.05050505 0.06060606\n",
      " 0.07070707 0.08080808 0.09090909 0.1010101  0.11111111 0.12121212\n",
      " 0.13131313 0.14141414 0.15151515 0.16161616 0.17171717 0.18181818\n",
      " 0.19191919 0.2020202  0.21212121 0.22222222 0.23232323 0.24242424\n",
      " 0.25252525 0.26262626 0.27272727 0.28282828 0.29292929 0.3030303\n",
      " 0.31313131 0.32323232 0.33333333 0.34343434 0.35353535 0.36363636\n",
      " 0.37373737 0.38383838 0.39393939 0.4040404  0.41414141 0.42424242\n",
      " 0.43434343 0.44444444 0.45454545 0.46464646 0.47474747 0.48484848\n",
      " 0.49494949 0.50505051 0.51515152 0.52525253 0.53535354 0.54545455\n",
      " 0.55555556 0.56565657 0.57575758 0.58585859 0.5959596  0.60606061\n",
      " 0.61616162 0.62626263 0.63636364 0.64646465 0.65656566 0.66666667\n",
      " 0.67676768 0.68686869 0.6969697  0.70707071 0.71717172 0.72727273\n",
      " 0.73737374 0.74747475 0.75757576 0.76767677 0.77777778 0.78787879\n",
      " 0.7979798  0.80808081 0.81818182 0.82828283 0.83838384 0.84848485\n",
      " 0.85858586 0.86868687 0.87878788 0.88888889 0.8989899  0.90909091\n",
      " 0.91919192 0.92929293 0.93939394 0.94949495 0.95959596 0.96969697\n",
      " 0.97979798 0.98989899 1.        ]\n",
      "[-1.         -0.97979798 -0.95959596 -0.93939394 -0.91919192 -0.8989899\n",
      " -0.87878788 -0.85858586 -0.83838384 -0.81818182 -0.7979798  -0.77777778\n",
      " -0.75757576 -0.73737374 -0.71717172 -0.6969697  -0.67676768 -0.65656566\n",
      " -0.63636364 -0.61616162 -0.5959596  -0.57575758 -0.55555556 -0.53535354\n",
      " -0.51515152 -0.49494949 -0.47474747 -0.45454545 -0.43434343 -0.41414141\n",
      " -0.39393939 -0.37373737 -0.35353535 -0.33333333 -0.31313131 -0.29292929\n",
      " -0.27272727 -0.25252525 -0.23232323 -0.21212121 -0.19191919 -0.17171717\n",
      " -0.15151515 -0.13131313 -0.11111111 -0.09090909 -0.07070707 -0.05050505\n",
      " -0.03030303 -0.01010101  0.01010101  0.03030303  0.05050505  0.07070707\n",
      "  0.09090909  0.11111111  0.13131313  0.15151515  0.17171717  0.19191919\n",
      "  0.21212121  0.23232323  0.25252525  0.27272727  0.29292929  0.31313131\n",
      "  0.33333333  0.35353535  0.37373737  0.39393939  0.41414141  0.43434343\n",
      "  0.45454545  0.47474747  0.49494949  0.51515152  0.53535354  0.55555556\n",
      "  0.57575758  0.5959596   0.61616162  0.63636364  0.65656566  0.67676768\n",
      "  0.6969697   0.71717172  0.73737374  0.75757576  0.77777778  0.7979798\n",
      "  0.81818182  0.83838384  0.85858586  0.87878788  0.8989899   0.91919192\n",
      "  0.93939394  0.95959596  0.97979798  1.        ]\n"
     ]
    }
   ],
   "source": [
    "q_range = np.linspace(0, 1, 100)    # q range 0 to 1\n",
    "xeff_range = np.linspace(-1, 1, 100)  # xeff range -1 to 1\n",
    "# remove zero\n",
    "q_range = np.delete(q_range, np.where(q_range == 0))\n",
    "xeff_range = np.delete(xeff_range, np.where(xeff_range == 0))\n",
    "print(q_range)\n",
    "print(xeff_range)"
   ]
  },
  {
   "cell_type": "code",
   "execution_count": null,
   "metadata": {},
   "outputs": [],
   "source": [
    "outdir = 'out'\n",
    "os.makedirs(outdir, exist_ok=True)\n",
    "data = []\n",
    "for i in q_range:\n",
    "    for j in xeff_range:\n",
    "        print(f\"q={i}, xeff={j}\")\n",
    "        a1_prior = get_a1_prior(q=i, xeff=j)\n",
    "        plt.plot(a1_prior.xx, a1_prior.yy)\n",
    "        plt.xlabel(\"a1\")\n",
    "        plt.ylabel(f\"p(a1|q={i},xeff={j})\")\n",
    "        plt.savefig(f\"{outdir}/p_a1_given_q_xeff_{i}_{j}.png\")\n",
    "        plt.close()\n",
    "        # save to data\n",
    "        data.append([i,j,a1_prior.xx,a1_prior.yy])\n",
    "        "
   ]
  },
  {
   "cell_type": "code",
   "execution_count": null,
   "metadata": {},
   "outputs": [],
   "source": [
    "df = pd.DataFrame(data)\n",
    "df.columns = [\"q\",\"xeff\",\"a1\",\"p_a1\"]\n",
    "import pickle\n",
    "# save the dataframe to pickle\n",
    "with open(f\"{outdir}/p_a1_given_q_xeff.pkl\", \"wb\") as f:\n",
    "    pickle.dump(df, f)\n"
   ]
  }
 ],
 "metadata": {
  "interpreter": {
   "hash": "40d3a090f54c6569ab1632332b64b2c03c39dcf918b08424e98f38b5ae0af88f"
  },
  "kernelspec": {
   "display_name": "Python 3.8.3 ('base')",
   "language": "python",
   "name": "python3"
  },
  "language_info": {
   "codemirror_mode": {
    "name": "ipython",
    "version": 3
   },
   "file_extension": ".py",
   "mimetype": "text/x-python",
   "name": "python",
   "nbconvert_exporter": "python",
   "pygments_lexer": "ipython3",
   "version": "3.8.3"
  },
  "orig_nbformat": 4
 },
 "nbformat": 4,
 "nbformat_minor": 2
}
